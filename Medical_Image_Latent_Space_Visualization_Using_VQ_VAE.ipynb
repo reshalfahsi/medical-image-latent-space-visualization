{
  "nbformat": 4,
  "nbformat_minor": 0,
  "metadata": {
    "colab": {
      "provenance": [],
      "collapsed_sections": [
        "LfB6OZhUdedb",
        "iwxywNzqdcri",
        "2zeoUhD6ddH9",
        "F2xwzYop0HVB",
        "yoJY0xH7ddi0",
        "MFee2rk3ddwX",
        "j5_U55Zn18MU",
        "KvN07wK218WF",
        "bRIpuEhU18ex",
        "svpoWw20dCNS",
        "5xzQgXOwdEyN",
        "1ZJCg_F3dQdm"
      ],
      "gpuType": "T4"
    },
    "kernelspec": {
      "name": "python3",
      "display_name": "Python 3"
    },
    "language_info": {
      "name": "python"
    },
    "accelerator": "GPU",
    "widgets": {
      "application/vnd.jupyter.widget-state+json": {
        "f608477dae4343c4a6b5b3273e0d5501": {
          "model_module": "@jupyter-widgets/controls",
          "model_name": "HBoxModel",
          "model_module_version": "1.5.0",
          "state": {
            "_dom_classes": [],
            "_model_module": "@jupyter-widgets/controls",
            "_model_module_version": "1.5.0",
            "_model_name": "HBoxModel",
            "_view_count": null,
            "_view_module": "@jupyter-widgets/controls",
            "_view_module_version": "1.5.0",
            "_view_name": "HBoxView",
            "box_style": "",
            "children": [
              "IPY_MODEL_f3c71c02f4b848e7b252e452868f39d2",
              "IPY_MODEL_e40d68355dad4ff3bc5c550071e27a38",
              "IPY_MODEL_731c1c14d4ae4f7abcd010697f1c125e"
            ],
            "layout": "IPY_MODEL_846452fe670c4609bfa8f0d531572b2b"
          }
        },
        "f3c71c02f4b848e7b252e452868f39d2": {
          "model_module": "@jupyter-widgets/controls",
          "model_name": "HTMLModel",
          "model_module_version": "1.5.0",
          "state": {
            "_dom_classes": [],
            "_model_module": "@jupyter-widgets/controls",
            "_model_module_version": "1.5.0",
            "_model_name": "HTMLModel",
            "_view_count": null,
            "_view_module": "@jupyter-widgets/controls",
            "_view_module_version": "1.5.0",
            "_view_name": "HTMLView",
            "description": "",
            "description_tooltip": null,
            "layout": "IPY_MODEL_85b6c23ee67b44f7b478bd0123f3cda7",
            "placeholder": "​",
            "style": "IPY_MODEL_9ad7b2b4afe949928d96270a56644b8a",
            "value": "100%"
          }
        },
        "e40d68355dad4ff3bc5c550071e27a38": {
          "model_module": "@jupyter-widgets/controls",
          "model_name": "FloatProgressModel",
          "model_module_version": "1.5.0",
          "state": {
            "_dom_classes": [],
            "_model_module": "@jupyter-widgets/controls",
            "_model_module_version": "1.5.0",
            "_model_name": "FloatProgressModel",
            "_view_count": null,
            "_view_module": "@jupyter-widgets/controls",
            "_view_module_version": "1.5.0",
            "_view_name": "ProgressView",
            "bar_style": "success",
            "description": "",
            "description_tooltip": null,
            "layout": "IPY_MODEL_732322b4745a425cbbfc9cbc2fcd9414",
            "max": 35343,
            "min": 0,
            "orientation": "horizontal",
            "style": "IPY_MODEL_e1f5f0cfe23c4cf293b8128fffe8c8c0",
            "value": 35343
          }
        },
        "731c1c14d4ae4f7abcd010697f1c125e": {
          "model_module": "@jupyter-widgets/controls",
          "model_name": "HTMLModel",
          "model_module_version": "1.5.0",
          "state": {
            "_dom_classes": [],
            "_model_module": "@jupyter-widgets/controls",
            "_model_module_version": "1.5.0",
            "_model_name": "HTMLModel",
            "_view_count": null,
            "_view_module": "@jupyter-widgets/controls",
            "_view_module_version": "1.5.0",
            "_view_name": "HTMLView",
            "description": "",
            "description_tooltip": null,
            "layout": "IPY_MODEL_3f8ab0a6f7334f07b1e67701503be793",
            "placeholder": "​",
            "style": "IPY_MODEL_31034eb97fe3454381c62a7bcef34b40",
            "value": " 35343/35343 [34:20&lt;00:00,  8.36it/s]"
          }
        },
        "846452fe670c4609bfa8f0d531572b2b": {
          "model_module": "@jupyter-widgets/base",
          "model_name": "LayoutModel",
          "model_module_version": "1.2.0",
          "state": {
            "_model_module": "@jupyter-widgets/base",
            "_model_module_version": "1.2.0",
            "_model_name": "LayoutModel",
            "_view_count": null,
            "_view_module": "@jupyter-widgets/base",
            "_view_module_version": "1.2.0",
            "_view_name": "LayoutView",
            "align_content": null,
            "align_items": null,
            "align_self": null,
            "border": null,
            "bottom": null,
            "display": null,
            "flex": null,
            "flex_flow": null,
            "grid_area": null,
            "grid_auto_columns": null,
            "grid_auto_flow": null,
            "grid_auto_rows": null,
            "grid_column": null,
            "grid_gap": null,
            "grid_row": null,
            "grid_template_areas": null,
            "grid_template_columns": null,
            "grid_template_rows": null,
            "height": null,
            "justify_content": null,
            "justify_items": null,
            "left": null,
            "margin": null,
            "max_height": null,
            "max_width": null,
            "min_height": null,
            "min_width": null,
            "object_fit": null,
            "object_position": null,
            "order": null,
            "overflow": null,
            "overflow_x": null,
            "overflow_y": null,
            "padding": null,
            "right": null,
            "top": null,
            "visibility": null,
            "width": null
          }
        },
        "85b6c23ee67b44f7b478bd0123f3cda7": {
          "model_module": "@jupyter-widgets/base",
          "model_name": "LayoutModel",
          "model_module_version": "1.2.0",
          "state": {
            "_model_module": "@jupyter-widgets/base",
            "_model_module_version": "1.2.0",
            "_model_name": "LayoutModel",
            "_view_count": null,
            "_view_module": "@jupyter-widgets/base",
            "_view_module_version": "1.2.0",
            "_view_name": "LayoutView",
            "align_content": null,
            "align_items": null,
            "align_self": null,
            "border": null,
            "bottom": null,
            "display": null,
            "flex": null,
            "flex_flow": null,
            "grid_area": null,
            "grid_auto_columns": null,
            "grid_auto_flow": null,
            "grid_auto_rows": null,
            "grid_column": null,
            "grid_gap": null,
            "grid_row": null,
            "grid_template_areas": null,
            "grid_template_columns": null,
            "grid_template_rows": null,
            "height": null,
            "justify_content": null,
            "justify_items": null,
            "left": null,
            "margin": null,
            "max_height": null,
            "max_width": null,
            "min_height": null,
            "min_width": null,
            "object_fit": null,
            "object_position": null,
            "order": null,
            "overflow": null,
            "overflow_x": null,
            "overflow_y": null,
            "padding": null,
            "right": null,
            "top": null,
            "visibility": null,
            "width": null
          }
        },
        "9ad7b2b4afe949928d96270a56644b8a": {
          "model_module": "@jupyter-widgets/controls",
          "model_name": "DescriptionStyleModel",
          "model_module_version": "1.5.0",
          "state": {
            "_model_module": "@jupyter-widgets/controls",
            "_model_module_version": "1.5.0",
            "_model_name": "DescriptionStyleModel",
            "_view_count": null,
            "_view_module": "@jupyter-widgets/base",
            "_view_module_version": "1.2.0",
            "_view_name": "StyleView",
            "description_width": ""
          }
        },
        "732322b4745a425cbbfc9cbc2fcd9414": {
          "model_module": "@jupyter-widgets/base",
          "model_name": "LayoutModel",
          "model_module_version": "1.2.0",
          "state": {
            "_model_module": "@jupyter-widgets/base",
            "_model_module_version": "1.2.0",
            "_model_name": "LayoutModel",
            "_view_count": null,
            "_view_module": "@jupyter-widgets/base",
            "_view_module_version": "1.2.0",
            "_view_name": "LayoutView",
            "align_content": null,
            "align_items": null,
            "align_self": null,
            "border": null,
            "bottom": null,
            "display": null,
            "flex": null,
            "flex_flow": null,
            "grid_area": null,
            "grid_auto_columns": null,
            "grid_auto_flow": null,
            "grid_auto_rows": null,
            "grid_column": null,
            "grid_gap": null,
            "grid_row": null,
            "grid_template_areas": null,
            "grid_template_columns": null,
            "grid_template_rows": null,
            "height": null,
            "justify_content": null,
            "justify_items": null,
            "left": null,
            "margin": null,
            "max_height": null,
            "max_width": null,
            "min_height": null,
            "min_width": null,
            "object_fit": null,
            "object_position": null,
            "order": null,
            "overflow": null,
            "overflow_x": null,
            "overflow_y": null,
            "padding": null,
            "right": null,
            "top": null,
            "visibility": null,
            "width": null
          }
        },
        "e1f5f0cfe23c4cf293b8128fffe8c8c0": {
          "model_module": "@jupyter-widgets/controls",
          "model_name": "ProgressStyleModel",
          "model_module_version": "1.5.0",
          "state": {
            "_model_module": "@jupyter-widgets/controls",
            "_model_module_version": "1.5.0",
            "_model_name": "ProgressStyleModel",
            "_view_count": null,
            "_view_module": "@jupyter-widgets/base",
            "_view_module_version": "1.2.0",
            "_view_name": "StyleView",
            "bar_color": null,
            "description_width": ""
          }
        },
        "3f8ab0a6f7334f07b1e67701503be793": {
          "model_module": "@jupyter-widgets/base",
          "model_name": "LayoutModel",
          "model_module_version": "1.2.0",
          "state": {
            "_model_module": "@jupyter-widgets/base",
            "_model_module_version": "1.2.0",
            "_model_name": "LayoutModel",
            "_view_count": null,
            "_view_module": "@jupyter-widgets/base",
            "_view_module_version": "1.2.0",
            "_view_name": "LayoutView",
            "align_content": null,
            "align_items": null,
            "align_self": null,
            "border": null,
            "bottom": null,
            "display": null,
            "flex": null,
            "flex_flow": null,
            "grid_area": null,
            "grid_auto_columns": null,
            "grid_auto_flow": null,
            "grid_auto_rows": null,
            "grid_column": null,
            "grid_gap": null,
            "grid_row": null,
            "grid_template_areas": null,
            "grid_template_columns": null,
            "grid_template_rows": null,
            "height": null,
            "justify_content": null,
            "justify_items": null,
            "left": null,
            "margin": null,
            "max_height": null,
            "max_width": null,
            "min_height": null,
            "min_width": null,
            "object_fit": null,
            "object_position": null,
            "order": null,
            "overflow": null,
            "overflow_x": null,
            "overflow_y": null,
            "padding": null,
            "right": null,
            "top": null,
            "visibility": null,
            "width": null
          }
        },
        "31034eb97fe3454381c62a7bcef34b40": {
          "model_module": "@jupyter-widgets/controls",
          "model_name": "DescriptionStyleModel",
          "model_module_version": "1.5.0",
          "state": {
            "_model_module": "@jupyter-widgets/controls",
            "_model_module_version": "1.5.0",
            "_model_name": "DescriptionStyleModel",
            "_view_count": null,
            "_view_module": "@jupyter-widgets/base",
            "_view_module_version": "1.2.0",
            "_view_name": "StyleView",
            "description_width": ""
          }
        }
      }
    }
  },
  "cells": [
    {
      "cell_type": "markdown",
      "metadata": {
        "id": "view-in-github",
        "colab_type": "text"
      },
      "source": [
        "<a href=\"https://colab.research.google.com/github/reshalfahsi/medical-image-latent-space-visualization/blob/master/Medical_Image_Latent_Space_Visualization_Using_VQ_VAE.ipynb\" target=\"_parent\"><img src=\"https://colab.research.google.com/assets/colab-badge.svg\" alt=\"Open In Colab\"/></a>"
      ]
    },
    {
      "cell_type": "markdown",
      "source": [
        "# **Medical Image Latent Space Visualization Using VQ-VAE**"
      ],
      "metadata": {
        "id": "DNBemCc1db_l"
      }
    },
    {
      "cell_type": "markdown",
      "source": [
        "## **Important Libraries**"
      ],
      "metadata": {
        "id": "LfB6OZhUdedb"
      }
    },
    {
      "cell_type": "code",
      "execution_count": null,
      "metadata": {
        "id": "gfN7nGTWcipd",
        "colab": {
          "base_uri": "https://localhost:8080/"
        },
        "outputId": "9ba54b98-4ca7-458c-d51e-7ffd6f2e4977"
      },
      "outputs": [
        {
          "output_type": "stream",
          "name": "stdout",
          "text": [
            "\u001b[?25l     \u001b[90m━━━━━━━━━━━━━━━━━━━━━━━━━━━━━━━━━━━━━━━━\u001b[0m \u001b[32m0.0/2.0 MB\u001b[0m \u001b[31m?\u001b[0m eta \u001b[36m-:--:--\u001b[0m\r\u001b[2K     \u001b[91m━━━━━━━\u001b[0m\u001b[91m╸\u001b[0m\u001b[90m━━━━━━━━━━━━━━━━━━━━━━━━━━━━━━━━\u001b[0m \u001b[32m0.4/2.0 MB\u001b[0m \u001b[31m12.3 MB/s\u001b[0m eta \u001b[36m0:00:01\u001b[0m\r\u001b[2K     \u001b[90m━━━━━━━━━━━━━━━━━━━━━━━━━━━━━━━━━━━━━━━━\u001b[0m \u001b[32m2.0/2.0 MB\u001b[0m \u001b[31m40.5 MB/s\u001b[0m eta \u001b[36m0:00:00\u001b[0m\n",
            "\u001b[2K     \u001b[90m━━━━━━━━━━━━━━━━━━━━━━━━━━━━━━━━━━━━━━━━\u001b[0m \u001b[32m805.2/805.2 kB\u001b[0m \u001b[31m387.2 MB/s\u001b[0m eta \u001b[36m0:00:00\u001b[0m\n",
            "\u001b[2K     \u001b[90m━━━━━━━━━━━━━━━━━━━━━━━━━━━━━━━━━━━━━━━━\u001b[0m \u001b[32m776.9/776.9 kB\u001b[0m \u001b[31m368.9 MB/s\u001b[0m eta \u001b[36m0:00:00\u001b[0m\n",
            "\u001b[2K     \u001b[90m━━━━━━━━━━━━━━━━━━━━━━━━━━━━━━━━━━━━━━━━\u001b[0m \u001b[32m88.3/88.3 kB\u001b[0m \u001b[31m314.0 MB/s\u001b[0m eta \u001b[36m0:00:00\u001b[0m\n",
            "\u001b[?25h  Preparing metadata (setup.py) ... \u001b[?25l\u001b[?25hdone\n",
            "  Building wheel for fire (setup.py) ... \u001b[?25l\u001b[?25hdone\n"
          ]
        }
      ],
      "source": [
        "!pip install -q --no-cache-dir lightning torchmetrics medmnist"
      ]
    },
    {
      "cell_type": "code",
      "source": [
        "try:\n",
        "    import lightning as L\n",
        "except:\n",
        "    import lightning as L\n",
        "from lightning.pytorch import Trainer, seed_everything\n",
        "from lightning.pytorch.callbacks.early_stopping import EarlyStopping\n",
        "from lightning.pytorch.callbacks import ModelCheckpoint\n",
        "\n",
        "from torchmetrics.image import (\n",
        "    PeakSignalNoiseRatio,\n",
        "    StructuralSimilarityIndexMeasure\n",
        ")\n",
        "from torchmetrics.regression import MeanAbsoluteError\n",
        "from google.colab.patches import cv2_imshow\n",
        "\n",
        "import torch\n",
        "import torch.nn as nn\n",
        "import torch.optim as optim\n",
        "import torch.nn.functional as F\n",
        "import torch.utils.data as data\n",
        "\n",
        "from torchvision.models import resnet18\n",
        "from torchvision.transforms import Compose, ToTensor, Lambda, ToPILImage, Resize\n",
        "from torchvision.datasets.utils import download_url\n",
        "\n",
        "from matplotlib.patches import Ellipse\n",
        "import matplotlib.transforms as transforms\n",
        "\n",
        "from glob import glob\n",
        "\n",
        "import numpy as np\n",
        "import pandas as pd\n",
        "import matplotlib.pyplot as plt\n",
        "\n",
        "from medmnist.dataset import MedMNIST\n",
        "from medmnist.info import INFO, HOMEPAGE, DEFAULT_ROOT\n",
        "\n",
        "from PIL import Image\n",
        "\n",
        "from tqdm import tqdm_notebook\n",
        "\n",
        "import os\n",
        "import cv2\n",
        "import random\n",
        "import math\n",
        "import warnings\n",
        "import time\n",
        "\n",
        "warnings.filterwarnings(\"ignore\")\n",
        "\n",
        "%matplotlib inline\n",
        "plt.rcParams['axes.facecolor'] = 'lightgray'\n",
        "plt.rcParams['mathtext.fontset'] = 'cm'\n",
        "plt.rcParams['font.family'] = 'STIXGeneral'"
      ],
      "metadata": {
        "id": "M4dYquyZeZYd"
      },
      "execution_count": null,
      "outputs": []
    },
    {
      "cell_type": "markdown",
      "source": [
        "## **Configuration**"
      ],
      "metadata": {
        "id": "iwxywNzqdcri"
      }
    },
    {
      "cell_type": "code",
      "source": [
        "MAX_EPOCH = 32\n",
        "BATCH_SIZE = 16\n",
        "LR = 2e-2\n",
        "INPUT_DIM = 3\n",
        "HIDDEN_DIM = 2\n",
        "N_EMBEDDING = 512\n",
        "OUTPUT_DIM = 3\n",
        "IMAGE_SIZE = 64\n",
        "\n",
        "DATASET = [\n",
        "    \"dermamnist\",\n",
        "    \"pneumoniamnist\",\n",
        "    \"retinamnist\",\n",
        "    \"breastmnist\",\n",
        "    \"bloodmnist\",\n",
        "]"
      ],
      "metadata": {
        "id": "OQLoYwIydczF"
      },
      "execution_count": null,
      "outputs": []
    },
    {
      "cell_type": "markdown",
      "source": [
        "## **Dataset**"
      ],
      "metadata": {
        "id": "dNHVVOa0dc53"
      }
    },
    {
      "cell_type": "markdown",
      "source": [
        "### **Utils**"
      ],
      "metadata": {
        "id": "2zeoUhD6ddH9"
      }
    },
    {
      "cell_type": "code",
      "source": [
        "image_transform = Compose(\n",
        "    [\n",
        "        Resize(IMAGE_SIZE),\n",
        "        ToTensor(),\n",
        "        Lambda(lambda x: (x * 2) - 1),\n",
        "    ]\n",
        ")"
      ],
      "metadata": {
        "id": "qz9219JkddOy"
      },
      "execution_count": null,
      "outputs": []
    },
    {
      "cell_type": "code",
      "source": [
        "class BiomedicalDataset(data.Dataset):\n",
        "    flags = DATASET\n",
        "\n",
        "    def __init__(\n",
        "        self,\n",
        "        splits=[\"train\", \"val\", \"test\"],\n",
        "        transform=image_transform,\n",
        "        download=True,\n",
        "        root=DEFAULT_ROOT,\n",
        "    ):\n",
        "        \"\"\"dataset\n",
        "        :param split: 'train', 'val' or 'test', select subset\n",
        "        :param transform: data transformation\n",
        "        :param target_transform: target transformation\n",
        "\n",
        "        \"\"\"\n",
        "\n",
        "        self.train_imgs = list()\n",
        "        self.val_imgs = list()\n",
        "        self.test_imgs = dict()\n",
        "\n",
        "        for flag in self.flags:\n",
        "            self.flag = flag\n",
        "            for split in splits:\n",
        "                self.info = INFO[self.flag]\n",
        "\n",
        "                if root is not None and os.path.exists(root):\n",
        "                    self.root = root\n",
        "                else:\n",
        "                    raise RuntimeError(\n",
        "                        \"Failed to setup the default `root` directory. \"\n",
        "                        + \"Please specify and create the `root` directory manually.\"\n",
        "                    )\n",
        "\n",
        "                if download:\n",
        "                    self.download()\n",
        "\n",
        "                if not os.path.exists(\n",
        "                    os.path.join(self.root, \"{}.npz\".format(self.flag))\n",
        "                ):\n",
        "                    raise RuntimeError(\n",
        "                        \"Dataset not found. \"\n",
        "                        + \" You can set `download=True` to download it\"\n",
        "                    )\n",
        "\n",
        "                npz_file = np.load(os.path.join(self.root, \"{}.npz\".format(self.flag)))\n",
        "\n",
        "                self.split = split\n",
        "                self.transform = transform\n",
        "\n",
        "                if self.split == \"train\":\n",
        "                    self.train_imgs += npz_file[\"train_images\"].tolist()\n",
        "                elif self.split == \"val\":\n",
        "                    self.val_imgs += npz_file[\"val_images\"].tolist()\n",
        "                elif self.split == \"test\":\n",
        "                    self.test_imgs[flag] = (\n",
        "                        npz_file[\"train_images\"].tolist()\n",
        "                        + npz_file[\"test_images\"].tolist()\n",
        "                        + npz_file[\"val_images\"].tolist()\n",
        "                    )\n",
        "                else:\n",
        "                    raise ValueError\n",
        "\n",
        "        del self.flag, self.root, self.info, self.split\n",
        "\n",
        "    @property\n",
        "    def __train__(self):\n",
        "        self.split = \"train\"\n",
        "        return self\n",
        "\n",
        "    @property\n",
        "    def __val__(self):\n",
        "        self.split = \"val\"\n",
        "        return self\n",
        "\n",
        "    def __test__(self, flag):\n",
        "        self.split = \"test\"\n",
        "        self.flag = flag\n",
        "        return self\n",
        "\n",
        "    def __getitem__(self, index):\n",
        "        \"\"\"\n",
        "        return: (without transform/target_transofrm)\n",
        "            img: PIL.Image\n",
        "        \"\"\"\n",
        "        try:\n",
        "            if self.split == \"train\":\n",
        "                img = np.array(self.train_imgs[index])\n",
        "            elif self.split == \"val\":\n",
        "                img = np.array(self.val_imgs[index])\n",
        "            elif self.split == \"test\":\n",
        "                img = np.array(self.test_imgs[self.flag][index])\n",
        "        except:\n",
        "            raise TypeError(\"Error while handling dataset's split type\")\n",
        "\n",
        "        img = Image.fromarray(img.astype(np.uint8))\n",
        "\n",
        "        if len(img.getbands()) < 3:\n",
        "            img = img.convert(\"RGB\")\n",
        "\n",
        "        if self.transform is not None:\n",
        "            img = self.transform(img)\n",
        "\n",
        "        return img\n",
        "\n",
        "    def __len__(self):\n",
        "        try:\n",
        "            if self.split == \"train\":\n",
        "                return len(self.train_imgs)\n",
        "            elif self.split == \"val\":\n",
        "                return len(self.val_imgs)\n",
        "            elif self.split == \"test\":\n",
        "                return len(self.test_imgs[self.flag])\n",
        "        except:\n",
        "            TypeError(\"Error while handling dataset's split type\")\n",
        "\n",
        "\n",
        "    def __repr__(self):\n",
        "        \"\"\"Adapted from torchvision.ss\"\"\"\n",
        "        _repr_indent = 4\n",
        "        head = f\"{self.__class__.__name__}\"\n",
        "        body = [f\"Number of datapoints: {self.__len__()}\"]\n",
        "        body.append(f\"Number of channels: 3\")\n",
        "\n",
        "        lines = [head] + [\" \" * _repr_indent + line for line in body]\n",
        "        return \"\\n\".join(lines)\n",
        "\n",
        "    def download(self):\n",
        "        try:\n",
        "            download_url(\n",
        "                url=self.info[\"url\"],\n",
        "                root=self.root,\n",
        "                filename=\"{}.npz\".format(self.flag),\n",
        "                md5=self.info[\"MD5\"],\n",
        "            )\n",
        "        except:\n",
        "            raise RuntimeError(\n",
        "                \"Something went wrong when downloading! \"\n",
        "                + \"Go to the homepage to download manually. \"\n",
        "                + HOMEPAGE\n",
        "            )"
      ],
      "metadata": {
        "id": "oQ9hrfMRir7i"
      },
      "execution_count": null,
      "outputs": []
    },
    {
      "cell_type": "code",
      "source": [
        "biomedical_dataset = BiomedicalDataset()"
      ],
      "metadata": {
        "colab": {
          "base_uri": "https://localhost:8080/"
        },
        "id": "A_XrMJtyv6xa",
        "outputId": "960c9191-2666-47f2-8d3c-bbfbff09e26c"
      },
      "execution_count": null,
      "outputs": [
        {
          "output_type": "stream",
          "name": "stdout",
          "text": [
            "Downloading https://zenodo.org/records/6496656/files/dermamnist.npz to /root/.medmnist/dermamnist.npz\n"
          ]
        },
        {
          "output_type": "stream",
          "name": "stderr",
          "text": [
            "100%|██████████| 19725078/19725078 [00:02<00:00, 9523077.47it/s] \n"
          ]
        },
        {
          "output_type": "stream",
          "name": "stdout",
          "text": [
            "Using downloaded and verified file: /root/.medmnist/dermamnist.npz\n",
            "Using downloaded and verified file: /root/.medmnist/dermamnist.npz\n",
            "Downloading https://zenodo.org/records/6496656/files/pneumoniamnist.npz to /root/.medmnist/pneumoniamnist.npz\n"
          ]
        },
        {
          "output_type": "stream",
          "name": "stderr",
          "text": [
            "100%|██████████| 4170669/4170669 [00:01<00:00, 3425794.78it/s]\n"
          ]
        },
        {
          "output_type": "stream",
          "name": "stdout",
          "text": [
            "Using downloaded and verified file: /root/.medmnist/pneumoniamnist.npz\n",
            "Using downloaded and verified file: /root/.medmnist/pneumoniamnist.npz\n",
            "Downloading https://zenodo.org/records/6496656/files/retinamnist.npz to /root/.medmnist/retinamnist.npz\n"
          ]
        },
        {
          "output_type": "stream",
          "name": "stderr",
          "text": [
            "100%|██████████| 3291041/3291041 [00:01<00:00, 2583288.98it/s]\n"
          ]
        },
        {
          "output_type": "stream",
          "name": "stdout",
          "text": [
            "Using downloaded and verified file: /root/.medmnist/retinamnist.npz\n",
            "Using downloaded and verified file: /root/.medmnist/retinamnist.npz\n",
            "Downloading https://zenodo.org/records/6496656/files/breastmnist.npz to /root/.medmnist/breastmnist.npz\n"
          ]
        },
        {
          "output_type": "stream",
          "name": "stderr",
          "text": [
            "100%|██████████| 559580/559580 [00:00<00:00, 722094.60it/s]\n"
          ]
        },
        {
          "output_type": "stream",
          "name": "stdout",
          "text": [
            "Using downloaded and verified file: /root/.medmnist/breastmnist.npz\n",
            "Using downloaded and verified file: /root/.medmnist/breastmnist.npz\n",
            "Downloading https://zenodo.org/records/6496656/files/bloodmnist.npz to /root/.medmnist/bloodmnist.npz\n"
          ]
        },
        {
          "output_type": "stream",
          "name": "stderr",
          "text": [
            "100%|██████████| 35461855/35461855 [00:02<00:00, 13522478.73it/s]\n"
          ]
        },
        {
          "output_type": "stream",
          "name": "stdout",
          "text": [
            "Using downloaded and verified file: /root/.medmnist/bloodmnist.npz\n",
            "Using downloaded and verified file: /root/.medmnist/bloodmnist.npz\n"
          ]
        }
      ]
    },
    {
      "cell_type": "markdown",
      "source": [
        "## **Model**"
      ],
      "metadata": {
        "id": "l8ufm-PjddVc"
      }
    },
    {
      "cell_type": "markdown",
      "source": [
        "### **Utils**"
      ],
      "metadata": {
        "id": "F2xwzYop0HVB"
      }
    },
    {
      "cell_type": "code",
      "source": [
        "class AvgMeter(object):\n",
        "    def __init__(self, complete=False):\n",
        "        self.reset()\n",
        "        self.complete = complete\n",
        "\n",
        "    def reset(self):\n",
        "        self.scores = []\n",
        "\n",
        "    def update(self, val):\n",
        "        self.scores.append(val)\n",
        "\n",
        "    @property\n",
        "    def score(self):\n",
        "        score = [s.numpy() for s in self.scores]\n",
        "        return score\n",
        "\n",
        "    def show(self):\n",
        "        scores = torch.stack(self.scores)\n",
        "\n",
        "        if self.complete:\n",
        "            mean = torch.mean(scores)\n",
        "            std = torch.std(scores)\n",
        "            return mean, std\n",
        "        else:\n",
        "            return torch.mean(scores)"
      ],
      "metadata": {
        "id": "SMwjXZ8Eddbl"
      },
      "execution_count": null,
      "outputs": []
    },
    {
      "cell_type": "code",
      "source": [
        "class DataPoint:\n",
        "    x = 0.\n",
        "    y = 0.\n",
        "    color = 'red'\n",
        "    marker = 'o'\n",
        "    label = None"
      ],
      "metadata": {
        "id": "cRMy4S340Vqk"
      },
      "execution_count": null,
      "outputs": []
    },
    {
      "cell_type": "markdown",
      "source": [
        "### **Encoder**"
      ],
      "metadata": {
        "id": "yoJY0xH7ddi0"
      }
    },
    {
      "cell_type": "code",
      "source": [
        "class Encoder(nn.Module):\n",
        "    def __init__(self, hidden_dim):\n",
        "        super(Encoder, self).__init__()\n",
        "\n",
        "        self.backbone = torch.hub.load(\n",
        "            'pytorch/vision:v0.10.0', 'resnet18', pretrained=True\n",
        "        )\n",
        "\n",
        "        del self.backbone.layer3, self.backbone.layer4\n",
        "        del self.backbone.avgpool, self.backbone.fc\n",
        "\n",
        "        self.layer3 = nn.Sequential(\n",
        "            nn.Conv2d(128, 128, 3, stride=2, padding=1, bias=False),\n",
        "            nn.BatchNorm2d(128),\n",
        "            nn.ReLU(),\n",
        "            nn.Conv2d(128, hidden_dim, 1, stride=1, padding=0, bias=False),\n",
        "            nn.BatchNorm2d(hidden_dim),\n",
        "        )\n",
        "\n",
        "    def forward(self, x):\n",
        "        x = self.backbone.conv1(x)\n",
        "        x = self.backbone.bn1(x)\n",
        "        x = self.backbone.relu(x)\n",
        "        x = self.backbone.maxpool(x)\n",
        "\n",
        "        x = self.backbone.layer1(x)\n",
        "        x = self.backbone.layer2(x)\n",
        "\n",
        "        x = self.layer3(x)\n",
        "\n",
        "        return x"
      ],
      "metadata": {
        "id": "eeol2k4Cddpi"
      },
      "execution_count": null,
      "outputs": []
    },
    {
      "cell_type": "markdown",
      "source": [
        "### **Vector Quantizer Embedding Exponential Moving Average**"
      ],
      "metadata": {
        "id": "MFee2rk3ddwX"
      }
    },
    {
      "cell_type": "code",
      "source": [
        "class VQEmbeddingEMA(nn.Module):\n",
        "    def __init__(\n",
        "        self,\n",
        "        n_embeddings,\n",
        "        embedding_dim,\n",
        "        commitment_cost=0.25,\n",
        "        decay=0.999,\n",
        "        epsilon=1e-5,\n",
        "    ):\n",
        "        super(VQEmbeddingEMA, self).__init__()\n",
        "        self.commitment_cost = commitment_cost\n",
        "        self.decay = decay\n",
        "        self.epsilon = epsilon\n",
        "\n",
        "        init_bound = 1 / n_embeddings\n",
        "        embedding = torch.Tensor(n_embeddings, embedding_dim)\n",
        "        embedding.uniform_(-init_bound, init_bound)\n",
        "        self.register_buffer(\"embedding\", embedding)\n",
        "        self.register_buffer(\"ema_count\", torch.zeros(n_embeddings))\n",
        "        self.register_buffer(\"ema_weight\", self.embedding.clone())\n",
        "\n",
        "    def encode(self, x):\n",
        "        M, D = self.embedding.size()\n",
        "        x_flat = x.detach().reshape(-1, D)\n",
        "\n",
        "        distances = torch.addmm(\n",
        "            torch.sum(self.embedding**2, dim=1)\n",
        "            + torch.sum(x_flat**2, dim=1, keepdim=True),\n",
        "            x_flat,\n",
        "            self.embedding.t(),\n",
        "            alpha=-2.0,\n",
        "            beta=1.0,\n",
        "        )\n",
        "\n",
        "        indices = torch.argmin(distances.float(), dim=-1)\n",
        "        quantized = F.embedding(indices, self.embedding)\n",
        "        quantized = quantized.view_as(x)\n",
        "\n",
        "        return quantized\n",
        "\n",
        "    def retrieve_random_codebook(self, random_indices):\n",
        "        quantized = F.embedding(random_indices, self.embedding)\n",
        "        quantized = quantized.transpose(1, 3)\n",
        "\n",
        "        return quantized\n",
        "\n",
        "    def forward(self, x):\n",
        "        M, D = self.embedding.size()\n",
        "        x_flat = x.detach().reshape(-1, D)\n",
        "\n",
        "        distances = torch.addmm(\n",
        "            torch.sum(self.embedding**2, dim=1)\n",
        "            + torch.sum(x_flat**2, dim=1, keepdim=True),\n",
        "            x_flat,\n",
        "            self.embedding.t(),\n",
        "            alpha=-2.0,\n",
        "            beta=1.0,\n",
        "        )\n",
        "\n",
        "        indices = torch.argmin(distances.float(), dim=-1)\n",
        "        encodings = F.one_hot(indices, M).float()\n",
        "        quantized = F.embedding(indices, self.embedding)\n",
        "        quantized = quantized.view_as(x)\n",
        "\n",
        "        if self.training:\n",
        "            self.ema_count = self.decay * self.ema_count + (1 - self.decay) * torch.sum(\n",
        "                encodings, dim=0\n",
        "            )\n",
        "            n = torch.sum(self.ema_count)\n",
        "            self.ema_count = (\n",
        "                (self.ema_count + self.epsilon) / (n + M * self.epsilon) * n\n",
        "            )\n",
        "\n",
        "            dw = torch.matmul(encodings.t(), x_flat)\n",
        "            self.ema_weight = self.decay * self.ema_weight + (1 - self.decay) * dw\n",
        "            self.embedding = self.ema_weight / self.ema_count.unsqueeze(-1)\n",
        "\n",
        "        codebook_loss = F.mse_loss(x.detach(), quantized)\n",
        "        e_latent_loss = F.mse_loss(x, quantized.detach())\n",
        "        commitment_loss = self.commitment_cost * e_latent_loss\n",
        "\n",
        "        quantized = x + (quantized - x).detach()\n",
        "\n",
        "        avg_probs = torch.mean(encodings, dim=0)\n",
        "        perplexity = torch.exp(-torch.sum(avg_probs * torch.log(avg_probs + 1e-10)))\n",
        "\n",
        "        return quantized, commitment_loss, codebook_loss, perplexity"
      ],
      "metadata": {
        "id": "Nxm6gDDidd2R"
      },
      "execution_count": null,
      "outputs": []
    },
    {
      "cell_type": "markdown",
      "source": [
        "### **Decoder**"
      ],
      "metadata": {
        "id": "j5_U55Zn18MU"
      }
    },
    {
      "cell_type": "code",
      "source": [
        "class Decoder(nn.Module):\n",
        "    def __init__(\n",
        "        self, input_dim, output_dim,\n",
        "    ):\n",
        "        super(Decoder, self).__init__()\n",
        "\n",
        "        self.conv1 = nn.Sequential(\n",
        "            nn.Conv2d(input_dim, 128, 3, padding=1, bias=False),\n",
        "            nn.BatchNorm2d(128),\n",
        "            nn.ReLU(),\n",
        "            nn.Conv2d(128, 64, 3, padding=1, bias=False),\n",
        "            nn.BatchNorm2d(64),\n",
        "        )\n",
        "        self.convskip1 = nn.Sequential(\n",
        "            nn.Conv2d(input_dim, 64, 1, bias=False),\n",
        "            nn.BatchNorm2d(64),\n",
        "        )\n",
        "        self.convtranspose1 = nn.ConvTranspose2d(\n",
        "            64, 64, 2, 2\n",
        "        )\n",
        "\n",
        "        self.conv2 = nn.Sequential(\n",
        "            nn.Conv2d(64, 64, 3, padding=1, bias=False),\n",
        "            nn.BatchNorm2d(64),\n",
        "            nn.ReLU(),\n",
        "            nn.Conv2d(64, 64, 3, padding=1, bias=False),\n",
        "            nn.BatchNorm2d(64),\n",
        "        )\n",
        "        self.convskip2 = nn.Sequential(\n",
        "            nn.Conv2d(64, 64, 1, bias=False),\n",
        "            nn.BatchNorm2d(64),\n",
        "        )\n",
        "        self.convtranspose2 = nn.ConvTranspose2d(\n",
        "            64, 64, 2, 2\n",
        "        )\n",
        "\n",
        "        self.conv3 = nn.Sequential(\n",
        "            nn.Conv2d(64, 64, 3, padding=1, bias=False),\n",
        "            nn.BatchNorm2d(64),\n",
        "            nn.ReLU(),\n",
        "            nn.Conv2d(64, 64, 3, padding=1, bias=False),\n",
        "            nn.BatchNorm2d(64),\n",
        "        )\n",
        "        self.convskip3 = nn.Sequential(\n",
        "            nn.Conv2d(64, 64, 1, bias=False),\n",
        "            nn.BatchNorm2d(64),\n",
        "        )\n",
        "        self.convtranspose3 = nn.ConvTranspose2d(\n",
        "            64, 64, 2, 2\n",
        "        )\n",
        "\n",
        "        self.conv4 = nn.Sequential(\n",
        "            nn.Conv2d(64, 32, 3, padding=1, bias=False),\n",
        "            nn.BatchNorm2d(32),\n",
        "            nn.ReLU(),\n",
        "            nn.Conv2d(32, 32, 3, padding=1, bias=False),\n",
        "            nn.BatchNorm2d(32),\n",
        "        )\n",
        "        self.convskip4 = nn.Sequential(\n",
        "            nn.Conv2d(64, 32, 1, bias=False),\n",
        "            nn.BatchNorm2d(32),\n",
        "        )\n",
        "        self.convtranspose4 = nn.ConvTranspose2d(\n",
        "            32, 32, 2, 2\n",
        "        )\n",
        "\n",
        "        self.final_conv = nn.Conv2d(32, 3, 3, padding=1)\n",
        "\n",
        "    def forward(self, x):\n",
        "        x = self.conv1(x) + self.convskip1(x)\n",
        "        x = self.convtranspose1(x)\n",
        "\n",
        "        x = self.conv2(x) + self.convskip2(x)\n",
        "        x = self.convtranspose2(x)\n",
        "\n",
        "        x = self.conv3(x) + self.convskip3(x)\n",
        "        x = self.convtranspose3(x)\n",
        "\n",
        "        x = self.conv4(x) + self.convskip4(x)\n",
        "        x = self.convtranspose4(x)\n",
        "\n",
        "        return self.final_conv(x)"
      ],
      "metadata": {
        "id": "f0-qpLKQ18Rb"
      },
      "execution_count": null,
      "outputs": []
    },
    {
      "cell_type": "markdown",
      "source": [
        "### **VQ-VAE (Vector-Quantized Variational AutoEncoder)**"
      ],
      "metadata": {
        "id": "KvN07wK218WF"
      }
    },
    {
      "cell_type": "code",
      "source": [
        "class VQVAE(L.LightningModule):\n",
        "    def __init__(self, encoder, codebook, decoder, batch_size, lr, max_epoch):\n",
        "        super().__init__()\n",
        "\n",
        "        self.encoder = encoder\n",
        "        self.codebook = codebook\n",
        "        self.decoder = decoder\n",
        "\n",
        "        self.batch_size = batch_size\n",
        "        self.lr = lr\n",
        "        self.max_epoch = max_epoch\n",
        "\n",
        "        self.datapoints = list()\n",
        "\n",
        "        self.train_psnr = PeakSignalNoiseRatio(data_range=1.0)\n",
        "        self.train_ssim = StructuralSimilarityIndexMeasure(data_range=1.0)\n",
        "        self.train_mae = MeanAbsoluteError()\n",
        "\n",
        "        self.val_psnr = PeakSignalNoiseRatio(data_range=1.0)\n",
        "        self.val_ssim = StructuralSimilarityIndexMeasure(data_range=1.0)\n",
        "        self.val_mae = MeanAbsoluteError()\n",
        "\n",
        "        self.train_psnr_recorder = AvgMeter()\n",
        "        self.train_ssim_recorder = AvgMeter()\n",
        "        self.train_mae_recorder = AvgMeter()\n",
        "\n",
        "        self.val_psnr_recorder = AvgMeter()\n",
        "        self.val_ssim_recorder = AvgMeter()\n",
        "        self.val_mae_recorder = AvgMeter()\n",
        "\n",
        "        self.train_psnr_list = list()\n",
        "        self.train_ssim_list = list()\n",
        "        self.train_mae_list = list()\n",
        "\n",
        "        self.val_psnr_list = list()\n",
        "        self.val_ssim_list = list()\n",
        "        self.val_mae_list = list()\n",
        "\n",
        "        self.train_total_loss_recorder = AvgMeter()\n",
        "        self.val_total_loss_recorder = AvgMeter()\n",
        "\n",
        "        self.train_total_loss = list()\n",
        "        self.val_total_loss = list()\n",
        "\n",
        "        self.sanity_check_counter = 1\n",
        "\n",
        "        self.automatic_optimization = False\n",
        "\n",
        "    def forward(self, x):\n",
        "        z = self.encoder(x)\n",
        "        z_quantized, commitment_loss, codebook_loss, perplexity = self.codebook(z)\n",
        "        x_hat = self.decoder(z_quantized)\n",
        "        return x_hat, commitment_loss, codebook_loss, perplexity\n",
        "\n",
        "    def latent_embedding(self, x):\n",
        "        z = self.encoder(x)\n",
        "        result = self.codebook.encode(z)\n",
        "        return result.mean(dim=[2,3])\n",
        "\n",
        "    def test_step(self, batch, batch_nb):\n",
        "        x = batch\n",
        "        latent = self.latent_embedding(x).squeeze(0).data.cpu().numpy()\n",
        "        datapoint = DataPoint()\n",
        "        datapoint.x = latent[0]\n",
        "        datapoint.y = latent[1]\n",
        "        datapoint.label = self.dataset_name\n",
        "\n",
        "\n",
        "        if self.dataset_name == \"dermamnist\":\n",
        "            datapoint.color = \"blue\"\n",
        "            datapoint.marker = \"o\"\n",
        "        elif self.dataset_name == \"pneumoniamnist\":\n",
        "            datapoint.color = \"purple\"\n",
        "            datapoint.marker = \"s\"\n",
        "        elif self.dataset_name == \"retinamnist\":\n",
        "            datapoint.color = \"green\"\n",
        "            datapoint.marker = \"s\"\n",
        "        elif self.dataset_name == \"breastmnist\":\n",
        "            datapoint.color = \"black\"\n",
        "            datapoint.marker = \"P\"\n",
        "        elif self.dataset_name == \"bloodmnist\":\n",
        "            datapoint.color = \"gold\"\n",
        "            datapoint.marker = \"P\"\n",
        "        else:\n",
        "            raise TypeError(f\"Unidentified dataset_name: {self.dataset_name}\")\n",
        "\n",
        "        self.datapoints.append(datapoint)\n",
        "\n",
        "    def training_step(self, batch, batch_nb):\n",
        "\n",
        "        ########################################################################\n",
        "\n",
        "        x = batch\n",
        "        x_hat, commitment_loss, codebook_loss, perplexity = self(x)\n",
        "        recon_loss = F.mse_loss(x_hat, x)\n",
        "        total_loss = recon_loss + commitment_loss + codebook_loss\n",
        "\n",
        "        opt = self.optimizers()\n",
        "        opt.zero_grad()\n",
        "        self.manual_backward(total_loss)\n",
        "        opt.step()\n",
        "\n",
        "        ########################################################################\n",
        "\n",
        "        self.log(\n",
        "            \"train_total_loss\",\n",
        "            total_loss,\n",
        "            prog_bar=True,\n",
        "        )\n",
        "        self.train_total_loss_recorder.update(total_loss.data)\n",
        "\n",
        "        self.train_psnr.update(x_hat, x)\n",
        "        psnr = self.train_psnr.compute().data.cpu()\n",
        "\n",
        "        self.train_ssim.update(x_hat, x)\n",
        "        ssim = self.train_ssim.compute().data.cpu()\n",
        "\n",
        "        self.train_mae.update(x_hat, x)\n",
        "        mae = self.train_mae.compute().data.cpu()\n",
        "\n",
        "        self.log(\"train_psnr\", psnr, prog_bar=True)\n",
        "        self.log(\"train_ssim\", ssim, prog_bar=True)\n",
        "        self.log(\"train_mae\", mae, prog_bar=True)\n",
        "\n",
        "        self.train_psnr_recorder.update(psnr)\n",
        "        self.train_ssim_recorder.update(ssim)\n",
        "        self.train_mae_recorder.update(mae)\n",
        "\n",
        "    def on_train_epoch_end(self):\n",
        "        mean = self.train_total_loss_recorder.show()\n",
        "        self.train_total_loss.append(mean.data.cpu().numpy())\n",
        "        self.train_total_loss_recorder = AvgMeter()\n",
        "\n",
        "        mean = self.train_mae_recorder.show()\n",
        "        self.train_mae_list.append(mean.data.cpu().numpy())\n",
        "        self.train_mae_recorder = AvgMeter()\n",
        "\n",
        "        mean = self.train_psnr_recorder.show()\n",
        "        self.train_psnr_list.append(mean.data.cpu().numpy())\n",
        "        self.train_psnr_recorder = AvgMeter()\n",
        "\n",
        "        mean = self.train_ssim_recorder.show()\n",
        "        self.train_ssim_list.append(mean.data.cpu().numpy())\n",
        "        self.train_ssim_recorder = AvgMeter()\n",
        "\n",
        "        self._plot_evaluation_metrics()\n",
        "\n",
        "    def validation_step(self, batch, batch_nb):\n",
        "        ########################################################################\n",
        "\n",
        "        x = batch\n",
        "        x_hat, commitment_loss, codebook_loss, perplexity = self(x)\n",
        "        recon_loss = F.mse_loss(x_hat, x)\n",
        "        total_loss = recon_loss + commitment_loss + codebook_loss\n",
        "\n",
        "        ########################################################################\n",
        "\n",
        "        self.log(\n",
        "            \"val_total_loss\",\n",
        "            total_loss,\n",
        "            prog_bar=True,\n",
        "        )\n",
        "        self.val_total_loss_recorder.update(total_loss.data)\n",
        "\n",
        "        self.val_psnr.update(x_hat, x)\n",
        "        psnr = self.val_psnr.compute().data.cpu()\n",
        "\n",
        "        self.val_ssim.update(x_hat, x)\n",
        "        ssim = self.val_ssim.compute().data.cpu()\n",
        "\n",
        "        self.val_mae.update(x_hat, x)\n",
        "        mae = self.val_mae.compute().data.cpu()\n",
        "\n",
        "        self.log(\"val_psnr\", psnr, prog_bar=True)\n",
        "        self.log(\"val_ssim\", ssim, prog_bar=True)\n",
        "        self.log(\"val_mae\", mae, prog_bar=True)\n",
        "\n",
        "        self.val_psnr_recorder.update(psnr)\n",
        "        self.val_ssim_recorder.update(ssim)\n",
        "        self.val_mae_recorder.update(mae)\n",
        "\n",
        "    def on_validation_epoch_end(self):\n",
        "        mean = self.val_total_loss_recorder.show()\n",
        "        self.val_total_loss.append(mean.data.cpu().numpy())\n",
        "        self.val_total_loss_recorder = AvgMeter()\n",
        "\n",
        "        mean = self.val_mae_recorder.show()\n",
        "        self.val_mae_list.append(mean.data.cpu().numpy())\n",
        "        self.val_mae_recorder = AvgMeter()\n",
        "\n",
        "        mean = self.val_psnr_recorder.show()\n",
        "        self.val_psnr_list.append(mean.data.cpu().numpy())\n",
        "        self.val_psnr_recorder = AvgMeter()\n",
        "\n",
        "        mean = self.val_ssim_recorder.show()\n",
        "        if self.sanity_check_counter == 0:\n",
        "            sch = self.lr_schedulers()\n",
        "            sch.step(mean)\n",
        "            print(\n",
        "                f\"[{MODEL_NAME}] Learning Rate: {self.optimizers().param_groups[0]['lr']}\"\n",
        "            )\n",
        "        else:\n",
        "            self.sanity_check_counter -= 1\n",
        "        self.val_ssim_list.append(mean.data.cpu().numpy())\n",
        "        self.val_ssim_recorder = AvgMeter()\n",
        "\n",
        "    def set_test_metadata(self, dataset_name):\n",
        "        self.dataset_name = dataset_name\n",
        "\n",
        "    def _plot_evaluation_metrics(self):\n",
        "        # Total Loss\n",
        "        loss_img_file = (\n",
        "            f\"{EXPERIMENT_DIR}/{MODEL_NAME}_total_loss_plot.png\"\n",
        "        )\n",
        "        plt.plot(self.train_total_loss, color=\"r\", label=\"train\")\n",
        "        plt.plot(self.val_total_loss[1:], color=\"b\", label=\"validation\")\n",
        "        plt.title(\"Total Loss Curves\")\n",
        "        plt.xlabel(\"Epoch\")\n",
        "        plt.ylabel(\"Loss\")\n",
        "        plt.legend()\n",
        "        plt.grid()\n",
        "        plt.savefig(loss_img_file)\n",
        "        plt.clf()\n",
        "\n",
        "        # PSNR\n",
        "        psnr_img_file = f\"{EXPERIMENT_DIR}/{MODEL_NAME}_psnr_plot.png\"\n",
        "        plt.plot(self.train_psnr_list, color=\"r\", label=\"train\")\n",
        "        plt.plot(self.val_psnr_list[1:], color=\"b\", label=\"validation\")\n",
        "        plt.title(\"PSNR Curves\")\n",
        "        plt.xlabel(\"Epoch\")\n",
        "        plt.ylabel(\"PSNR\")\n",
        "        plt.legend()\n",
        "        plt.grid()\n",
        "        plt.savefig(psnr_img_file)\n",
        "        plt.clf()\n",
        "\n",
        "        # SSIM\n",
        "        ssim_img_file = f\"{EXPERIMENT_DIR}/{MODEL_NAME}_ssim_plot.png\"\n",
        "        plt.plot(self.train_ssim_list, color=\"r\", label=\"train\")\n",
        "        plt.plot(self.val_ssim_list[1:], color=\"b\", label=\"validation\")\n",
        "        plt.title(\"SSIM Curves\")\n",
        "        plt.xlabel(\"Epoch\")\n",
        "        plt.ylabel(\"SSIM\")\n",
        "        plt.legend()\n",
        "        plt.grid()\n",
        "        plt.savefig(ssim_img_file)\n",
        "        plt.clf()\n",
        "\n",
        "        # MAE\n",
        "        mae_img_file = f\"{EXPERIMENT_DIR}/{MODEL_NAME}_mae_plot.png\"\n",
        "        plt.plot(self.train_mae_list, color=\"r\", label=\"train\")\n",
        "        plt.plot(self.val_mae_list[1:], color=\"b\", label=\"validation\")\n",
        "        plt.title(\"MAE Curves\")\n",
        "        plt.xlabel(\"Epoch\")\n",
        "        plt.ylabel(\"MAE\")\n",
        "        plt.legend()\n",
        "        plt.grid()\n",
        "        plt.savefig(mae_img_file)\n",
        "        plt.clf()\n",
        "\n",
        "    def train_dataloader(self):\n",
        "        return data.DataLoader(\n",
        "            dataset=biomedical_dataset.__train__,\n",
        "            batch_size=self.batch_size,\n",
        "            shuffle=True,\n",
        "        )\n",
        "\n",
        "    def val_dataloader(self):\n",
        "        return data.DataLoader(\n",
        "            dataset=biomedical_dataset.__val__,\n",
        "            batch_size=self.batch_size,\n",
        "            shuffle=False,\n",
        "        )\n",
        "\n",
        "    def configure_optimizers(self):\n",
        "        optimizer = optim.SGD(\n",
        "            self.parameters(),\n",
        "            lr=self.lr,\n",
        "            weight_decay=1e-3,\n",
        "            momentum=0.9,\n",
        "            nesterov=True,\n",
        "        )\n",
        "        lr_scheduler = {\n",
        "            \"scheduler\": optim.lr_scheduler.ReduceLROnPlateau(\n",
        "                optimizer,\n",
        "                mode=\"max\",\n",
        "                factor=0.1,\n",
        "                patience=2,\n",
        "            ),\n",
        "            \"name\": \"lr_scheduler\",\n",
        "        }\n",
        "        return [optimizer], [lr_scheduler]"
      ],
      "metadata": {
        "id": "3Ml6Nata18aM"
      },
      "execution_count": null,
      "outputs": []
    },
    {
      "cell_type": "code",
      "source": [
        "MODEL = VQVAE\n",
        "MODEL_NAME = MODEL.__name__"
      ],
      "metadata": {
        "id": "iQuWb186CDdm"
      },
      "execution_count": null,
      "outputs": []
    },
    {
      "cell_type": "code",
      "source": [
        "EXPERIMENT_DIR = \"/content/\"\n",
        "BEST_MODEL_PATH = os.path.join(EXPERIMENT_DIR, f\"{MODEL_NAME}_best.ckpt\")"
      ],
      "metadata": {
        "id": "6W9OWPUeCD4o"
      },
      "execution_count": null,
      "outputs": []
    },
    {
      "cell_type": "markdown",
      "source": [
        "## **Training**"
      ],
      "metadata": {
        "id": "bRIpuEhU18ex"
      }
    },
    {
      "cell_type": "code",
      "source": [
        "SEED = int(np.random.randint(2147483647))\n",
        "print(f\"Random seed: {SEED}\")"
      ],
      "metadata": {
        "colab": {
          "base_uri": "https://localhost:8080/"
        },
        "id": "mXKcaXhF18kC",
        "outputId": "3e22f23a-269b-4ccf-907f-877952301a36"
      },
      "execution_count": null,
      "outputs": [
        {
          "output_type": "stream",
          "name": "stdout",
          "text": [
            "Random seed: 1871857900\n"
          ]
        }
      ]
    },
    {
      "cell_type": "code",
      "source": [
        "model, trainer, checkpoint, early_stopping = None, None, None, None\n",
        "\n",
        "\n",
        "def _train_loop():\n",
        "    seed_everything(SEED, workers=True)\n",
        "\n",
        "    ENCODER = Encoder(hidden_dim=HIDDEN_DIM)\n",
        "    CODEBOOK = VQEmbeddingEMA(n_embeddings=N_EMBEDDING, embedding_dim=HIDDEN_DIM)\n",
        "    DECODER = Decoder(input_dim=HIDDEN_DIM, output_dim=OUTPUT_DIM)\n",
        "\n",
        "    model = MODEL(ENCODER, CODEBOOK, DECODER, BATCH_SIZE, LR, MAX_EPOCH)\n",
        "\n",
        "    checkpoint = ModelCheckpoint(\n",
        "        monitor='val_ssim',\n",
        "        dirpath=EXPERIMENT_DIR,\n",
        "        mode='max',\n",
        "        filename=f\"{MODEL_NAME}_best\",\n",
        "    )\n",
        "    print(MODEL_NAME)\n",
        "    early_stopping = EarlyStopping(\n",
        "        monitor=\"val_ssim\", min_delta=0.00, patience=8, verbose=False, mode=\"max\"\n",
        "    )\n",
        "\n",
        "    if os.path.exists(BEST_MODEL_PATH):\n",
        "        ckpt_path = BEST_MODEL_PATH\n",
        "    else:\n",
        "        ckpt_path = None\n",
        "\n",
        "    trainer = Trainer(\n",
        "        accelerator=\"auto\",\n",
        "        devices=1,\n",
        "        max_epochs=MAX_EPOCH,\n",
        "        logger=False,\n",
        "        callbacks=[checkpoint, early_stopping],\n",
        "        log_every_n_steps=5,\n",
        "    )\n",
        "    trainer.fit(model, ckpt_path=ckpt_path)\n",
        "\n",
        "_train_loop()"
      ],
      "metadata": {
        "id": "M2c56qR9C-jR"
      },
      "execution_count": null,
      "outputs": []
    },
    {
      "cell_type": "code",
      "source": [
        "img = cv2.imread(f\"{EXPERIMENT_DIR}/{MODEL_NAME}_total_loss_plot.png\")\n",
        "cv2_imshow(img)\n",
        "img = cv2.imread(f\"{EXPERIMENT_DIR}/{MODEL_NAME}_mae_plot.png\")\n",
        "cv2_imshow(img)\n",
        "img = cv2.imread(f\"{EXPERIMENT_DIR}/{MODEL_NAME}_psnr_plot.png\")\n",
        "cv2_imshow(img)\n",
        "img = cv2.imread(f\"{EXPERIMENT_DIR}/{MODEL_NAME}_ssim_plot.png\")\n",
        "cv2_imshow(img)\n",
        "del img"
      ],
      "metadata": {
        "id": "ToeD_2D3rThp",
        "colab": {
          "base_uri": "https://localhost:8080/",
          "height": 1000
        },
        "outputId": "6cce80bc-6efb-467e-96c9-fba8f6bb7228"
      },
      "execution_count": null,
      "outputs": [
        {
          "output_type": "display_data",
          "data": {
            "text/plain": [
              "<PIL.Image.Image image mode=RGB size=640x480>"
            ],
            "image/png": "[encoded data removed]"
          },
          "metadata": {}
        },
        {
          "output_type": "display_data",
          "data": {
            "text/plain": [
              "<PIL.Image.Image image mode=RGB size=640x480>"
            ],
            "image/png": "[encoded data removed]"
          },
          "metadata": {}
        },
        {
          "output_type": "display_data",
          "data": {
            "text/plain": [
              "<PIL.Image.Image image mode=RGB size=640x480>"
            ],
            "image/png": "[encoded data removed]"
          },
          "metadata": {}
        },
        {
          "output_type": "display_data",
          "data": {
            "text/plain": [
              "<PIL.Image.Image image mode=RGB size=640x480>"
            ],
            "image/png": "[encoded data removed]"
          },
          "metadata": {}
        }
      ]
    },
    {
      "cell_type": "markdown",
      "source": [
        "## **Inference**"
      ],
      "metadata": {
        "id": "iAABlrVn18pF"
      }
    },
    {
      "cell_type": "markdown",
      "source": [
        "### **Utils**"
      ],
      "metadata": {
        "id": "svpoWw20dCNS"
      }
    },
    {
      "cell_type": "code",
      "source": [
        "def confidence_ellipse(x, y, ax, n_std=3.0, facecolor='none', **kwargs):\n",
        "    \"\"\"\n",
        "    Create a plot of the covariance confidence ellipse of *x* and *y*.\n",
        "\n",
        "    Parameters\n",
        "    ----------\n",
        "    x, y : array-like, shape (n, )\n",
        "        Input data.\n",
        "\n",
        "    ax : matplotlib.axes.Axes\n",
        "        The axes object to draw the ellipse into.\n",
        "\n",
        "    n_std : float\n",
        "        The number of standard deviations to determine the ellipse's radiuses.\n",
        "\n",
        "    **kwargs\n",
        "        Forwarded to `~matplotlib.patches.Ellipse`\n",
        "\n",
        "    Returns\n",
        "    -------\n",
        "    matplotlib.patches.Ellipse\n",
        "    \"\"\"\n",
        "    if x.size != y.size:\n",
        "        raise ValueError(\"x and y must be the same size\")\n",
        "\n",
        "    cov = np.cov(x, y)\n",
        "    pearson = cov[0, 1]/np.sqrt(cov[0, 0] * cov[1, 1])\n",
        "    # Using a special case to obtain the eigenvalues of this\n",
        "    # two-dimensional dataset.\n",
        "    ell_radius_x = np.sqrt(1 + pearson)\n",
        "    ell_radius_y = np.sqrt(1 - pearson)\n",
        "    ellipse = Ellipse((0, 0), width=ell_radius_x * 2, height=ell_radius_y * 2,\n",
        "                      facecolor=facecolor, linewidth=3, **kwargs)\n",
        "\n",
        "    # Calculating the standard deviation of x from\n",
        "    # the squareroot of the variance and multiplying\n",
        "    # with the given number of standard deviations.\n",
        "    scale_x = np.sqrt(cov[0, 0]) * n_std\n",
        "    mean_x = np.mean(x)\n",
        "\n",
        "    # calculating the standard deviation of y ...\n",
        "    scale_y = np.sqrt(cov[1, 1]) * n_std\n",
        "    mean_y = np.mean(y)\n",
        "\n",
        "    transf = transforms.Affine2D() \\\n",
        "        .rotate_deg(45) \\\n",
        "        .scale(scale_x, scale_y) \\\n",
        "        .translate(mean_x, mean_y)\n",
        "\n",
        "    ellipse.set_transform(transf + ax.transData)\n",
        "    return ax.add_patch(ellipse)"
      ],
      "metadata": {
        "id": "x6AAsg7d182-"
      },
      "execution_count": null,
      "outputs": []
    },
    {
      "cell_type": "markdown",
      "source": [
        "### **Gather the Vector Quantized Latent Representation**"
      ],
      "metadata": {
        "id": "5xzQgXOwdEyN"
      }
    },
    {
      "cell_type": "code",
      "source": [
        "trainer = Trainer(accelerator='auto', logger=False)\n",
        "\n",
        "ENCODER = Encoder(hidden_dim=HIDDEN_DIM)\n",
        "CODEBOOK = VQEmbeddingEMA(n_embeddings=N_EMBEDDING, embedding_dim=HIDDEN_DIM)\n",
        "DECODER = Decoder(input_dim=HIDDEN_DIM, output_dim=OUTPUT_DIM)\n",
        "\n",
        "model = MODEL(ENCODER, CODEBOOK, DECODER, BATCH_SIZE, LR, MAX_EPOCH)\n",
        "\n",
        "for dataset_name in DATASET:\n",
        "    print(f\"======================{dataset_name}==============================\")\n",
        "    model.set_test_metadata(dataset_name=dataset_name)\n",
        "    trainer.test(\n",
        "        model=model,\n",
        "        ckpt_path=BEST_MODEL_PATH,\n",
        "        dataloaders=data.DataLoader(\n",
        "                dataset=biomedical_dataset.__test__(dataset_name),\n",
        "                batch_size=1,\n",
        "                shuffle=False,\n",
        "        ),\n",
        "    )"
      ],
      "metadata": {
        "id": "L52uzSL618tb"
      },
      "execution_count": null,
      "outputs": []
    },
    {
      "cell_type": "markdown",
      "source": [
        "### **Visualize the Latent Space**"
      ],
      "metadata": {
        "id": "1ZJCg_F3dQdm"
      }
    },
    {
      "cell_type": "code",
      "source": [
        "plt.clf()\n",
        "fig, ax = plt.subplots()\n",
        "has_been_called = set()\n",
        "points = {dataset: list() for dataset in DATASET}\n",
        "\n",
        "for datapoint in tqdm_notebook(model.datapoints):\n",
        "    x = datapoint.x\n",
        "    y = datapoint.y\n",
        "    label = datapoint.label\n",
        "    points[label].append([x, y])\n",
        "    ax.scatter(\n",
        "        x,\n",
        "        y,\n",
        "        c=datapoint.color,\n",
        "        marker=datapoint.marker,\n",
        "        label=label if label not in has_been_called else \"\",\n",
        "    )\n",
        "    has_been_called.add(label)\n",
        "\n",
        "for dataset_name, dataset in points.items():\n",
        "    if dataset_name == \"dermamnist\":\n",
        "        color = \"blue\"\n",
        "    elif dataset_name == \"pneumoniamnist\":\n",
        "        color = \"purple\"\n",
        "    elif dataset_name == \"retinamnist\":\n",
        "        color = \"green\"\n",
        "    elif dataset_name == \"breastmnist\":\n",
        "        color = \"black\"\n",
        "    elif dataset_name == \"bloodmnist\":\n",
        "        color = \"gold\"\n",
        "    dataset = np.array(dataset)\n",
        "    confidence_ellipse(dataset[:, 0], dataset[:, 1], ax, edgecolor=color)\n",
        "\n",
        "min_, max_ = plt.xlim()\n",
        "ax.set_xlim([min_, 2.25 * max_])\n",
        "min_, max_ = plt.ylim()\n",
        "ax.set_ylim([min_, 2.25 * max_])\n",
        "plt.axis('off')\n",
        "plt.legend(loc=\"upper right\")\n",
        "plt.savefig(f\"{EXPERIMENT_DIR}/latent_space.pdf\")"
      ],
      "metadata": {
        "id": "mo3PJYveD8aC",
        "colab": {
          "base_uri": "https://localhost:8080/",
          "height": 455,
          "referenced_widgets": [
            "f608477dae4343c4a6b5b3273e0d5501",
            "f3c71c02f4b848e7b252e452868f39d2",
            "e40d68355dad4ff3bc5c550071e27a38",
            "731c1c14d4ae4f7abcd010697f1c125e",
            "846452fe670c4609bfa8f0d531572b2b",
            "85b6c23ee67b44f7b478bd0123f3cda7",
            "9ad7b2b4afe949928d96270a56644b8a",
            "732322b4745a425cbbfc9cbc2fcd9414",
            "e1f5f0cfe23c4cf293b8128fffe8c8c0",
            "3f8ab0a6f7334f07b1e67701503be793",
            "31034eb97fe3454381c62a7bcef34b40"
          ]
        },
        "outputId": "c73812a0-0bee-49cd-bec8-76e5bdce52ad"
      },
      "execution_count": null,
      "outputs": [
        {
          "data": {
            "application/vnd.jupyter.widget-view+json": {
              "model_id": "f608477dae4343c4a6b5b3273e0d5501",
              "version_major": 2,
              "version_minor": 0
            },
            "text/plain": [
              "  0%|          | 0/35343 [00:00<?, ?it/s]"
            ]
          },
          "metadata": {},
          "output_type": "display_data"
        },
        {
          "data": {
            "text/plain": [
              "<Figure size 640x480 with 0 Axes>"
            ]
          },
          "metadata": {},
          "output_type": "display_data"
        },
        {
          "data": {
            "image/png": "[encoded data removed]",
            "text/plain": [
              "<Figure size 640x480 with 1 Axes>"
            ]
          },
          "metadata": {},
          "output_type": "display_data"
        }
      ]
    }
  ]
}
